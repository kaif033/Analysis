{
 "cells": [
  {
   "cell_type": "code",
   "execution_count": 20,
   "id": "c153eda5-123b-44c1-983b-31914b5982f6",
   "metadata": {},
   "outputs": [],
   "source": [
    "#Import Packages\n",
    "from selenium import webdriver\n",
    "import time\n",
    "import pandas as pd\n",
    "import numpy as np\n",
    "\n",
    "from selenium.webdriver.support.select import Select\n",
    "from selenium.webdriver.support.ui import WebDriverWait\n",
    "from selenium.webdriver.common.by import By\n",
    "from selenium.webdriver.support import expected_conditions as EC\n",
    "from selenium.webdriver.common.keys import Keys"
   ]
  },
  {
   "cell_type": "code",
   "execution_count": 44,
   "id": "c411977c-a2e8-4041-8e8e-d30a3dce7f1e",
   "metadata": {},
   "outputs": [],
   "source": [
    "driver = webdriver.Chrome()\n",
    "driver.get('https://www.google.com/search?q=irctc&rlz=1C1JJTC_enIN982IN982&oq=irctc&gs_lcrp=EgZjaHJvbWUyBggAEEUYOdIBCDE3MzVqMGo0qAIAsAIA&sourceid=chrome&ie=UTF-8')\n",
    "time.sleep(2)\n",
    "irctc_click=driver.find_element(By.XPATH,'/html/body/div[5]/div/div[9]/div[1]/div[2]/div[2]/div/div/div[1]/div/div/div/div/div/div/div/div[1]/div')\n",
    "irctc_click.click()\n",
    "time.sleep(2)"
   ]
  },
  {
   "cell_type": "code",
   "execution_count": 45,
   "id": "74108f2c-3a77-4794-b814-4ddb0eb9f962",
   "metadata": {},
   "outputs": [
    {
     "name": "stderr",
     "output_type": "stream",
     "text": [
      "Neither CUDA nor MPS are available - defaulting to CPU. Note: This module is much faster with a GPU.\n"
     ]
    },
    {
     "name": "stdout",
     "output_type": "stream",
     "text": [
      "Ticket Fare\n",
      "₹ 885\n"
     ]
    }
   ],
   "source": [
    "from_=driver.find_element(By.XPATH,\"/html/body/app-root/app-home/div[3]/div/app-main-page/div/div/div[1]/div[1]/div[1]/app-jp-input/div/form/div[2]/div[1]/div[1]/p-autocomplete/span/input\")\n",
    "from_.send_keys('YPR')\n",
    "time.sleep(2)\n",
    "from_.send_keys(Keys.TAB)\n",
    "time.sleep(1)\n",
    "to=driver.find_element(By.XPATH,\"/html/body/app-root/app-home/div[3]/div/app-main-page/div/div/div[1]/div[1]/div[1]/app-jp-input/div/form/div[2]/div[1]/div[2]/p-autocomplete/span/input\")\n",
    "to.send_keys(\"GKP\")\n",
    "time.sleep(2)\n",
    "to.send_keys(Keys.TAB)\n",
    "try:\n",
    "    ignore_button=driver.find_element(By.XPATH,\"/html/body/app-root/app-home/div[3]/app-login/p-dialog[1]/div/div/div[2]/a\").click()\n",
    "    time.sleep(2)\n",
    "except:\n",
    "    pass\n",
    "date = driver.find_element(By.XPATH, \"/html/body/app-root/app-home/div[3]/div/app-main-page/div/div/div[1]/div[1]/div[1]/app-jp-input/div/form/div[2]/div[2]/div[1]/p-calendar/span/input\")\n",
    "date.send_keys('22/04/2024')\n",
    "time.sleep(1)\n",
    "date.send_keys(Keys.ENTER)\n",
    "time.sleep(5)\n",
    "refresh=driver.find_element(By.XPATH,'/html/body/app-root/app-home/div[3]/div/app-train-list/div[4]/div/div[5]/div/div[1]/app-train-avl-enq/div[1]/div[5]/div[1]/table/tr/td[1]/div/div[2]').click()\n",
    "time.sleep(2)\n",
    "class_selection=driver.find_element(By.XPATH,'/html/body/app-root/app-home/div[3]/div/app-train-list/div[4]/div/div[5]/div/div[1]/app-train-avl-enq/div[1]/div[7]/div[1]/p-tabmenu/div/ul/li[1]/a/div')\n",
    "class_selection.text\n",
    "time.sleep(1)\n",
    "\n",
    "if class_selection.text =='Sleeper (SL)SL':\n",
    "    \n",
    "    selecting_class=driver.find_element(By.XPATH,'/html/body/app-root/app-home/div[3]/div/app-train-list/div[4]/div/div[5]/div/div[1]/app-train-avl-enq/div[1]/div[7]/div[1]/div[3]/table/tr/td[2]/div/div[2]')\n",
    "    selecting_class.click()\n",
    "    time.sleep(3)\n",
    "    book_now=driver.find_element(By.XPATH,'/html/body/app-root/app-home/div[3]/div/app-train-list/div[4]/div/div[5]/div/div[1]/app-train-avl-enq/div[2]/div/span/span[1]/button').click()\n",
    "    \n",
    "    #filling in the login_details]\n",
    "    time.sleep(2)\n",
    "    login_id=driver.find_element(By.XPATH,'/html/body/app-root/app-home/div[3]/app-login/p-dialog[1]/div/div/div[2]/div[2]/div/div[2]/div[2]/div[2]/form/div[1]/input').send_keys('mohdkaif7869')\n",
    "    password=driver.find_element(By.XPATH,'/html/body/app-root/app-home/div[3]/app-login/p-dialog[1]/div/div/div[2]/div[2]/div/div[2]/div[2]/div[2]/form/div[2]/input').send_keys('Kaifmd@786')\n",
    "    time.sleep(5)\n",
    "    \n",
    "\n",
    "else:\n",
    "    print(\"no booking allowed\")\n",
    "time.sleep(3)\n",
    "\n",
    "#loacting the captcha and solving \n",
    "\n",
    "xpath = \"/html/body/app-root/app-home/div[3]/app-login/p-dialog[1]/div/div/div[2]/div[2]/div/div[2]/div[2]/div[2]/form/div[4]/div/app-captcha/div/div/div[2]/span[1]/img\"\n",
    "\n",
    "# Wait for the image element to be present and interactable\n",
    "image_element = WebDriverWait(driver, 10).until(\n",
    "    EC.presence_of_element_located((By.XPATH, xpath))\n",
    ")\n",
    "\n",
    "# Extract the image URL from the \"src\" attribute\n",
    "image_url = image_element.get_attribute(\"src\")\n",
    "\n",
    "import base64\n",
    "\n",
    "image_data = image_url.split(',')[1]  # Extract data after the comma\n",
    "decoded_image_data = base64.b64decode(image_data)\n",
    "\n",
    "with open(\"captc.jpg\", \"wb\") as f:\n",
    "    f.write(decoded_image_data)\n",
    "time.sleep(3)\n",
    "\n",
    "import easyocr\n",
    "\n",
    "reader = easyocr.Reader(['en'])  \n",
    "\n",
    "time.sleep(3)\n",
    "\n",
    "from PIL import Image\n",
    "\n",
    "image = Image.open(r\"C:\\Users\\HP\\Downloads\\captc.jpg\")\n",
    "time.sleep(2)\n",
    "# Proceed with OCR using Tesseract or other methods\n",
    "\n",
    "image_array = np.array(image)\n",
    "result = reader.readtext(image_array)\n",
    "\n",
    "text = result[0][1]\n",
    "\n",
    "captch=driver.find_element(By.XPATH,'/html/body/app-root/app-home/div[3]/app-login/p-dialog[1]/div/div/div[2]/div[2]/div/div[2]/div[2]/div[2]/form/div[4]/div/app-captcha/div/div/input').send_keys(text)\n",
    "time.sleep(3)\n",
    "\n",
    "\n",
    "sign_in=driver.find_element(By.XPATH,'/html/body/app-root/app-home/div[3]/app-login/p-dialog[1]/div/div/div[2]/div[2]/div/div[2]/div[2]/div[2]/form/span/button').click()\n",
    "time.sleep(3)\n",
    "\n",
    "\n",
    "#passenegr details \n",
    "passeneger_name=driver.find_element(By.XPATH,'/html/body/app-root/app-home/div[3]/div/app-passenger-input/div[5]/form/div/div[1]/div[4]/p-panel/div/div[2]/div/div[1]/div[2]/div/app-passenger/div/div[1]/span/div[1]/p-autocomplete/span/input')\n",
    "passeneger_name.send_keys(\"mirza atif\")\n",
    "passenger_age=driver.find_element(By.XPATH,'/html/body/app-root/app-home/div[3]/div/app-passenger-input/div[5]/form/div/div[1]/div[4]/p-panel/div/div[2]/div/div[1]/div[2]/div/app-passenger/div/div[1]/span/div[2]/input')\n",
    "passenger_age.send_keys(20)\n",
    "# ---------------------------------------------------------------\n",
    "total_fare=driver.find_element(By.XPATH,'/html/body/app-root/app-home/div[3]/div/app-passenger-input/div[5]/form/div/div[2]/app-fare-summary/div/div[1]/p-panel/div/div[2]/div/div[1]')\n",
    "print(total_fare.text)\n",
    "time.sleep(3)\n",
    "    \n"
   ]
  },
  {
   "cell_type": "code",
   "execution_count": 46,
   "id": "0d45bd1d-8e26-450d-8fdb-8e8ab97f1c3e",
   "metadata": {},
   "outputs": [],
   "source": [
    "through_upi=driver.find_element(By.XPATH,'/html/body/app-root/app-home/div[3]/div/app-passenger-input/div[5]/form/div/div[1]/div[12]/p-panel/div/div[2]/div/table/tr[2]/label/p-radiobutton')\n",
    "through_upi.click()\n",
    "time.sleep(2)\n",
    "# ----------------------------------------------------------------------\n",
    "contin=driver.find_element(By.XPATH,'/html/body/app-root/app-home/div[3]/div/app-passenger-input/div[5]/form/div/div[1]/div[14]/div/button[2]').click()\n",
    "time.sleep(2)\n"
   ]
  },
  {
   "cell_type": "code",
   "execution_count": 48,
   "id": "958657a7",
   "metadata": {},
   "outputs": [
    {
     "name": "stderr",
     "output_type": "stream",
     "text": [
      "Neither CUDA nor MPS are available - defaulting to CPU. Note: This module is much faster with a GPU.\n"
     ]
    },
    {
     "name": "stdout",
     "output_type": "stream",
     "text": [
      "TICKET OVERVIEW\n"
     ]
    },
    {
     "data": {
      "text/plain": [
       "['JOURNEY SUMMARY',\n",
       " 'GORAKHPUR EXP(12592)',\n",
       " 'Mon, 22 Apr',\n",
       " 'YESVANTPUR JN',\n",
       " 'GORAKHPUR JN',\n",
       " 'YPR (17:15)',\n",
       " 'GKP (15:20)',\n",
       " '1 Adult | Sleeper (SL) | GENERAL | YESVANTPUR JN | Boarding Date: 22 Apr 2024 17:15',\n",
       " 'Passenger Details',\n",
       " '1. mirza atif 20 yrs | Male',\n",
       " 'Contact Details',\n",
       " 'Email: ka******@gmail.com',\n",
       " '',\n",
       " 'Mobile: 91-9******75']"
      ]
     },
     "execution_count": 48,
     "metadata": {},
     "output_type": "execute_result"
    }
   ],
   "source": [
    "\n",
    "#loacting the captcha and solving \n",
    "\n",
    "xpath = \"/html/body/app-root/app-home/div[3]/div/app-review-booking/div[4]/div/div[1]/form/div[1]/div/div/app-captcha/div/div/div[2]/span[1]/img\"\n",
    "\n",
    "# Wait for the image element to be present and interactable\n",
    "image_element = WebDriverWait(driver, 10).until(\n",
    "    EC.presence_of_element_located((By.XPATH, xpath))\n",
    ")\n",
    "\n",
    "# Extract the image URL from the \"src\" attribute\n",
    "image_url = image_element.get_attribute(\"src\")\n",
    "\n",
    "import base64\n",
    "\n",
    "image_data = image_url.split(',')[1]  # Extract data after the comma\n",
    "decoded_image_data = base64.b64decode(image_data)\n",
    "\n",
    "with open(\"capt.jpg\", \"wb\") as f:\n",
    "    f.write(decoded_image_data)\n",
    "time.sleep(3)\n",
    "\n",
    "import easyocr\n",
    "\n",
    "reader = easyocr.Reader(['en'])  \n",
    "\n",
    "time.sleep(3)\n",
    "\n",
    "from PIL import Image\n",
    "\n",
    "image = Image.open(r\"C:\\Users\\HP\\Downloads\\capt.jpg\")\n",
    "time.sleep(2)\n",
    "# Proceed with OCR using Tesseract or other methods\n",
    "\n",
    "image_array = np.array(image)\n",
    "result = reader.readtext(image_array)\n",
    "\n",
    "text = result[0][1]\n",
    "\n",
    "captch=driver.find_element(By.XPATH,'/html/body/app-root/app-home/div[3]/div/app-review-booking/div[4]/div/div[1]/form/div[1]/div/div/app-captcha/div/div/input').send_keys(text)\n",
    "time.sleep(3)\n",
    "\n",
    "final_cont=driver.find_element(By.XPATH,'/html/body/app-root/app-home/div[3]/div/app-review-booking/div[4]/div/div[1]/p-sidebar/div/div/div[2]/button')\n",
    "final_cont.click()\n",
    "time.sleep(4)\n",
    "continue1=driver.find_element(By.XPATH,'/html/body/app-root/app-home/div[3]/div/app-payment-options/div[4]/div[2]/div[1]/div[1]/app-payment/div[1]/div/form/p-sidebar[2]/div/div/div[2]/button').click()\n",
    "time.sleep(2)\n",
    "description=driver.find_element(By.XPATH,'/html/body/app-root/app-home/div[3]/div/app-payment-options/div[4]/div[2]/div[2]/app-journey-details/div').text\n",
    "print(\"TICKET OVERVIEW\")\n",
    "description.split('\\n')\n"
   ]
  },
  {
   "cell_type": "code",
   "execution_count": 37,
   "id": "6cabee70-357a-41ee-ae22-3cc82fc052bc",
   "metadata": {},
   "outputs": [],
   "source": [
    "pay_and_book=driver.find_element(By.XPATH,'/html/body/app-root/app-home/div[3]/div/app-payment-options/div[4]/div[2]/div[1]/div[1]/app-payment/div[1]/div/form/p-sidebar[1]/div/div/div[2]/div[2]/button').click()\n",
    "time.sleep(10)\n",
    "driver.quit()"
   ]
  },
  {
   "cell_type": "code",
   "execution_count": null,
   "id": "6b084442-2770-488e-82e3-39dcbb8d3798",
   "metadata": {},
   "outputs": [],
   "source": [
    "driver.quit()"
   ]
  }
 ],
 "metadata": {
  "kernelspec": {
   "display_name": "Python 3 (ipykernel)",
   "language": "python",
   "name": "python3"
  },
  "language_info": {
   "codemirror_mode": {
    "name": "ipython",
    "version": 3
   },
   "file_extension": ".py",
   "mimetype": "text/x-python",
   "name": "python",
   "nbconvert_exporter": "python",
   "pygments_lexer": "ipython3",
   "version": "3.11.4"
  }
 },
 "nbformat": 4,
 "nbformat_minor": 5
}
